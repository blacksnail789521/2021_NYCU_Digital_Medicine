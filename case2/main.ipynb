{
 "cells": [
  {
   "cell_type": "markdown",
   "metadata": {},
   "source": [
    "# ResNet18 and ResNet50"
   ]
  },
  {
   "cell_type": "code",
   "execution_count": 1,
   "metadata": {},
   "outputs": [
    {
     "name": "stderr",
     "output_type": "stream",
     "text": [
      "Failed to detect the name of this notebook, you can set it manually with the WANDB_NOTEBOOK_NAME environment variable to enable code saving.\n",
      "\u001b[34m\u001b[1mwandb\u001b[0m: Currently logged in as: \u001b[33mtommytyc\u001b[0m (use `wandb login --relogin` to force relogin)\n"
     ]
    },
    {
     "data": {
      "text/html": [
       "\n",
       "                    Syncing run <strong><a href=\"https://wandb.ai/tommytyc/Digital%20Medicine%20Case%202/runs/hmmn94nr\" target=\"_blank\">expert-dawn-21</a></strong> to <a href=\"https://wandb.ai/tommytyc/Digital%20Medicine%20Case%202\" target=\"_blank\">Weights & Biases</a> (<a href=\"https://docs.wandb.com/integrations/jupyter.html\" target=\"_blank\">docs</a>).<br/>\n",
       "\n",
       "                "
      ],
      "text/plain": [
       "<IPython.core.display.HTML object>"
      ]
     },
     "metadata": {},
     "output_type": "display_data"
    }
   ],
   "source": [
    "from utils import *\n",
    "import torch\n",
    "import torch.nn as nn\n",
    "from tqdm import tqdm\n",
    "from torchvision import models\n",
    "from sklearn.metrics import f1_score\n",
    "import wandb\n",
    "\n",
    "device = torch.device(\"cuda\" if torch.cuda.is_available() else \"cpu\")\n",
    "epochs = 150\n",
    "lr = 1e-3\n",
    "batch_size = 16\n",
    "model_size = 50\n",
    "model_name = f'resnet{model_size}'\n",
    "# model_name = 'densenet169'\n",
    "\n",
    "wandb.init(project=\"Digital Medicine Case 2\", entity=\"tommytyc\")\n",
    "wandb.config = {\n",
    "    \"learning_rate\": lr,\n",
    "    \"epochs\": epochs,\n",
    "    \"batch_size\": batch_size,\n",
    "    \"model_name\": model_name,\n",
    "}\n",
    "\n",
    "train_df = pd.read_csv(\"./Data/train_label.csv\")\n",
    "# valid_df = pd.read_csv(\"./Data/valid_label.csv\")\n",
    "test_df = pd.read_csv(\"./Data/test_label.csv\")\n",
    "train_set = Covid_Dataset(train_df, 'train')\n",
    "train_loader = DataLoader(train_set, batch_size=batch_size, shuffle=True)\n",
    "# valid_set = Covid_Dataset(valid_df, 'valid')\n",
    "# valid_loader = DataLoader(valid_set, batch_size=1, shuffle=True)\n",
    "test_set = Covid_Dataset(test_df, 'test')\n",
    "test_loader = DataLoader(test_set, batch_size=1)"
   ]
  },
  {
   "cell_type": "markdown",
   "metadata": {},
   "source": [
    "## ResNet"
   ]
  },
  {
   "cell_type": "code",
   "execution_count": 2,
   "metadata": {},
   "outputs": [],
   "source": [
    "class ResNet(nn.Module):\n",
    "    def __init__(self, model_size=18, pretrained=True):\n",
    "        super(ResNet, self).__init__()\n",
    "        if model_size == 18:\n",
    "            last_dim = 512\n",
    "        elif model_size == 50 or model_size == 101 or model_size == 152:\n",
    "            last_dim = 2048\n",
    "        \n",
    "        self.model_size = model_size\n",
    "        pretrained_model = models.__dict__[f\"resnet{model_size}\"](pretrained=pretrained)\n",
    "        \n",
    "        self.conv1 = nn.Conv2d(1, 64, kernel_size=7, stride=2, padding=3, bias=False)\n",
    "        self.bn1 = pretrained_model._modules[\"bn1\"]\n",
    "        self.relu = pretrained_model._modules[\"relu\"]\n",
    "        self.maxpool = pretrained_model._modules[\"maxpool\"]\n",
    "        \n",
    "        self.layer1 = pretrained_model._modules[\"layer1\"]\n",
    "        self.layer2 = pretrained_model._modules[\"layer2\"]\n",
    "        self.layer3 = pretrained_model._modules[\"layer3\"]\n",
    "        self.layer4 = pretrained_model._modules[\"layer4\"]\n",
    "        \n",
    "        self.avgpool = nn.AdaptiveAvgPool2d((1, 1))\n",
    "        self.fc = nn.Linear(last_dim, 3)\n",
    "        \n",
    "        del pretrained_model\n",
    "\n",
    "    def forward(self, x):\n",
    "        x = self.conv1(x)\n",
    "        x = self.bn1(x)\n",
    "        x = self.relu(x)\n",
    "        x = self.maxpool(x)\n",
    "\n",
    "        x = self.layer1(x)\n",
    "        x = self.layer2(x)\n",
    "        x = self.layer3(x)\n",
    "        x = self.layer4(x)\n",
    "\n",
    "        x = self.avgpool(x)\n",
    "        x = x.view(x.size(0), -1)\n",
    "        x = self.fc(x)\n",
    "        return x"
   ]
  },
  {
   "cell_type": "markdown",
   "metadata": {},
   "source": [
    "## DenseNet"
   ]
  },
  {
   "cell_type": "code",
   "execution_count": 3,
   "metadata": {},
   "outputs": [],
   "source": [
    "# from collections import OrderedDict\n",
    "# model = models.densenet169(pretrained=True)\n",
    "# model.features[0] = nn.Sequential(OrderedDict([\n",
    "#             ('conv0', nn.Conv2d(1, 64, kernel_size=7, stride=2, padding=3, bias=False)),\n",
    "#             ('norm0', nn.BatchNorm2d(64)),\n",
    "#             ('relu0', nn.ReLU(inplace=True)),\n",
    "#             ('pool0', nn.MaxPool2d(kernel_size=3, stride=2, padding=1)),\n",
    "#         ]))\n",
    "# model.classifier = nn.Linear(1664, 3)"
   ]
  },
  {
   "cell_type": "markdown",
   "metadata": {},
   "source": [
    "## Training"
   ]
  },
  {
   "cell_type": "code",
   "execution_count": 4,
   "metadata": {},
   "outputs": [
    {
     "name": "stderr",
     "output_type": "stream",
     "text": [
      "  1%|          | 1/150 [01:18<3:16:06, 78.97s/it]"
     ]
    },
    {
     "name": "stdout",
     "output_type": "stream",
     "text": [
      "Epoch: 0, loss: 1.012873888015747\n"
     ]
    },
    {
     "name": "stderr",
     "output_type": "stream",
     "text": [
      "  4%|▍         | 6/150 [07:55<3:10:26, 79.35s/it]"
     ]
    },
    {
     "name": "stdout",
     "output_type": "stream",
     "text": [
      "Epoch: 5, loss: 0.8146169185638428\n"
     ]
    },
    {
     "name": "stderr",
     "output_type": "stream",
     "text": [
      "  7%|▋         | 11/150 [14:32<3:04:03, 79.45s/it]"
     ]
    },
    {
     "name": "stdout",
     "output_type": "stream",
     "text": [
      "Epoch: 10, loss: 1.2352805137634277\n"
     ]
    },
    {
     "name": "stderr",
     "output_type": "stream",
     "text": [
      " 11%|█         | 16/150 [21:09<2:57:23, 79.43s/it]"
     ]
    },
    {
     "name": "stdout",
     "output_type": "stream",
     "text": [
      "Epoch: 15, loss: 0.7852510809898376\n"
     ]
    },
    {
     "name": "stderr",
     "output_type": "stream",
     "text": [
      " 14%|█▍        | 21/150 [27:46<2:50:38, 79.37s/it]"
     ]
    },
    {
     "name": "stdout",
     "output_type": "stream",
     "text": [
      "Epoch: 20, loss: 0.2811877131462097\n"
     ]
    },
    {
     "name": "stderr",
     "output_type": "stream",
     "text": [
      " 17%|█▋        | 26/150 [34:23<2:44:07, 79.42s/it]"
     ]
    },
    {
     "name": "stdout",
     "output_type": "stream",
     "text": [
      "Epoch: 25, loss: 0.47667866945266724\n"
     ]
    },
    {
     "name": "stderr",
     "output_type": "stream",
     "text": [
      " 21%|██        | 31/150 [41:00<2:37:32, 79.43s/it]"
     ]
    },
    {
     "name": "stdout",
     "output_type": "stream",
     "text": [
      "Epoch: 30, loss: 0.051106590777635574\n"
     ]
    },
    {
     "name": "stderr",
     "output_type": "stream",
     "text": [
      " 24%|██▍       | 36/150 [47:37<2:30:44, 79.33s/it]"
     ]
    },
    {
     "name": "stdout",
     "output_type": "stream",
     "text": [
      "Epoch: 35, loss: 0.22887012362480164\n"
     ]
    },
    {
     "name": "stderr",
     "output_type": "stream",
     "text": [
      " 27%|██▋       | 41/150 [54:14<2:24:06, 79.32s/it]"
     ]
    },
    {
     "name": "stdout",
     "output_type": "stream",
     "text": [
      "Epoch: 40, loss: 0.049387432634830475\n"
     ]
    },
    {
     "name": "stderr",
     "output_type": "stream",
     "text": [
      " 31%|███       | 46/150 [1:00:51<2:17:37, 79.40s/it]"
     ]
    },
    {
     "name": "stdout",
     "output_type": "stream",
     "text": [
      "Epoch: 45, loss: 0.02291695401072502\n"
     ]
    },
    {
     "name": "stderr",
     "output_type": "stream",
     "text": [
      " 34%|███▍      | 51/150 [1:07:29<2:11:18, 79.58s/it]"
     ]
    },
    {
     "name": "stdout",
     "output_type": "stream",
     "text": [
      "Epoch: 50, loss: 0.010366552509367466\n"
     ]
    },
    {
     "name": "stderr",
     "output_type": "stream",
     "text": [
      " 37%|███▋      | 56/150 [1:14:06<2:04:36, 79.54s/it]"
     ]
    },
    {
     "name": "stdout",
     "output_type": "stream",
     "text": [
      "Epoch: 55, loss: 0.09647729992866516\n"
     ]
    },
    {
     "name": "stderr",
     "output_type": "stream",
     "text": [
      " 41%|████      | 61/150 [1:20:42<1:57:38, 79.31s/it]"
     ]
    },
    {
     "name": "stdout",
     "output_type": "stream",
     "text": [
      "Epoch: 60, loss: 0.18295983970165253\n"
     ]
    },
    {
     "name": "stderr",
     "output_type": "stream",
     "text": [
      " 44%|████▍     | 66/150 [1:27:19<1:51:06, 79.37s/it]"
     ]
    },
    {
     "name": "stdout",
     "output_type": "stream",
     "text": [
      "Epoch: 65, loss: 0.04920356348156929\n"
     ]
    },
    {
     "name": "stderr",
     "output_type": "stream",
     "text": [
      " 47%|████▋     | 71/150 [1:33:57<1:44:36, 79.45s/it]"
     ]
    },
    {
     "name": "stdout",
     "output_type": "stream",
     "text": [
      "Epoch: 70, loss: 0.005516589619219303\n"
     ]
    },
    {
     "name": "stderr",
     "output_type": "stream",
     "text": [
      " 51%|█████     | 76/150 [1:40:34<1:37:57, 79.43s/it]"
     ]
    },
    {
     "name": "stdout",
     "output_type": "stream",
     "text": [
      "Epoch: 75, loss: 0.01956999860703945\n"
     ]
    },
    {
     "name": "stderr",
     "output_type": "stream",
     "text": [
      " 54%|█████▍    | 81/150 [1:47:11<1:31:21, 79.44s/it]"
     ]
    },
    {
     "name": "stdout",
     "output_type": "stream",
     "text": [
      "Epoch: 80, loss: 0.017079487442970276\n"
     ]
    },
    {
     "name": "stderr",
     "output_type": "stream",
     "text": [
      " 57%|█████▋    | 86/150 [1:53:49<1:24:48, 79.51s/it]"
     ]
    },
    {
     "name": "stdout",
     "output_type": "stream",
     "text": [
      "Epoch: 85, loss: 0.04956820234656334\n"
     ]
    },
    {
     "name": "stderr",
     "output_type": "stream",
     "text": [
      " 61%|██████    | 91/150 [2:00:26<1:18:03, 79.37s/it]"
     ]
    },
    {
     "name": "stdout",
     "output_type": "stream",
     "text": [
      "Epoch: 90, loss: 0.010915916413068771\n"
     ]
    },
    {
     "name": "stderr",
     "output_type": "stream",
     "text": [
      " 64%|██████▍   | 96/150 [2:07:03<1:11:32, 79.50s/it]"
     ]
    },
    {
     "name": "stdout",
     "output_type": "stream",
     "text": [
      "Epoch: 95, loss: 0.0004917970509268343\n"
     ]
    },
    {
     "name": "stderr",
     "output_type": "stream",
     "text": [
      " 67%|██████▋   | 101/150 [2:13:41<1:04:54, 79.48s/it]"
     ]
    },
    {
     "name": "stdout",
     "output_type": "stream",
     "text": [
      "Epoch: 100, loss: 0.008476155810058117\n"
     ]
    },
    {
     "name": "stderr",
     "output_type": "stream",
     "text": [
      " 71%|███████   | 106/150 [2:20:18<58:14, 79.42s/it]"
     ]
    },
    {
     "name": "stdout",
     "output_type": "stream",
     "text": [
      "Epoch: 105, loss: 0.03160415217280388\n"
     ]
    },
    {
     "name": "stderr",
     "output_type": "stream",
     "text": [
      " 74%|███████▍  | 111/150 [2:26:55<51:35, 79.37s/it]"
     ]
    },
    {
     "name": "stdout",
     "output_type": "stream",
     "text": [
      "Epoch: 110, loss: 0.017468256875872612\n"
     ]
    },
    {
     "name": "stderr",
     "output_type": "stream",
     "text": [
      " 77%|███████▋  | 116/150 [2:33:32<45:00, 79.42s/it]"
     ]
    },
    {
     "name": "stdout",
     "output_type": "stream",
     "text": [
      "Epoch: 115, loss: 0.0002989819913636893\n"
     ]
    },
    {
     "name": "stderr",
     "output_type": "stream",
     "text": [
      " 81%|████████  | 121/150 [2:40:09<38:24, 79.46s/it]"
     ]
    },
    {
     "name": "stdout",
     "output_type": "stream",
     "text": [
      "Epoch: 120, loss: 0.0007909522391855717\n"
     ]
    },
    {
     "name": "stderr",
     "output_type": "stream",
     "text": [
      " 84%|████████▍ | 126/150 [2:46:46<31:47, 79.47s/it]"
     ]
    },
    {
     "name": "stdout",
     "output_type": "stream",
     "text": [
      "Epoch: 125, loss: 0.009264652617275715\n"
     ]
    },
    {
     "name": "stderr",
     "output_type": "stream",
     "text": [
      " 87%|████████▋ | 131/150 [2:53:24<25:10, 79.50s/it]"
     ]
    },
    {
     "name": "stdout",
     "output_type": "stream",
     "text": [
      "Epoch: 130, loss: 0.0017399350181221962\n"
     ]
    },
    {
     "name": "stderr",
     "output_type": "stream",
     "text": [
      " 91%|█████████ | 136/150 [3:00:02<18:33, 79.53s/it]"
     ]
    },
    {
     "name": "stdout",
     "output_type": "stream",
     "text": [
      "Epoch: 135, loss: 0.07705352455377579\n"
     ]
    },
    {
     "name": "stderr",
     "output_type": "stream",
     "text": [
      " 94%|█████████▍| 141/150 [3:06:39<11:55, 79.54s/it]"
     ]
    },
    {
     "name": "stdout",
     "output_type": "stream",
     "text": [
      "Epoch: 140, loss: 0.002609513932839036\n"
     ]
    },
    {
     "name": "stderr",
     "output_type": "stream",
     "text": [
      " 97%|█████████▋| 146/150 [3:13:17<05:18, 79.55s/it]"
     ]
    },
    {
     "name": "stdout",
     "output_type": "stream",
     "text": [
      "Epoch: 145, loss: 0.008381438441574574\n"
     ]
    },
    {
     "name": "stderr",
     "output_type": "stream",
     "text": [
      "100%|██████████| 150/150 [3:18:35<00:00, 79.44s/it]\n"
     ]
    }
   ],
   "source": [
    "model = ResNet(model_size=model_size, pretrained=True)\n",
    "ce_loss = nn.CrossEntropyLoss()\n",
    "optimizer = torch.optim.SGD(model.parameters(), lr=lr, momentum=0.9, weight_decay=1e-4)\n",
    "model.to(device)\n",
    "ce_loss.to(device)\n",
    "best_acc = 0\n",
    "for epoch in tqdm(range(epochs)):\n",
    "    model.train()\n",
    "    for images, labels in train_loader:\n",
    "        images = images.to(device)\n",
    "        labels = labels.to(device)\n",
    "        optimizer.zero_grad()\n",
    "        outputs = model(images)\n",
    "        loss = ce_loss(outputs, labels)\n",
    "        loss.backward()\n",
    "        optimizer.step()\n",
    "    # model.eval()\n",
    "    # with torch.no_grad():\n",
    "    #     valid_preds, valid_label = [], []\n",
    "    #     for images, labels in valid_loader:\n",
    "    #         images = images.to(device)\n",
    "    #         labels = labels.to(device)\n",
    "    #         outputs = model(images)\n",
    "    #         valid_preds.append(outputs.argmax(dim=1).cpu().numpy())\n",
    "    #         valid_label.append(labels.detach().cpu().numpy())\n",
    "    #     acc = f1_score(valid_preds, valid_label, average='macro')\n",
    "    #     wandb.log({\"loss\": loss, 'valid_acc': acc}, step=epoch)\n",
    "    #     if acc > best_acc:\n",
    "    #         best_acc = acc\n",
    "    #         torch.save(model.state_dict(), f\"./Models/{model_name}_covid_model.pt\")\n",
    "    if epoch % 5 == 0:\n",
    "        # print(f\"Epoch: {epoch}, loss: {loss}, acc: {best_acc}\")\n",
    "        print(f\"Epoch: {epoch}, loss: {loss}\")"
   ]
  },
  {
   "cell_type": "markdown",
   "metadata": {},
   "source": [
    "## Predicting"
   ]
  },
  {
   "cell_type": "code",
   "execution_count": 5,
   "metadata": {},
   "outputs": [],
   "source": [
    "torch.save(model.state_dict(), f\"./Models/{model_name}_last_covid_model.pt\")"
   ]
  },
  {
   "cell_type": "code",
   "execution_count": 15,
   "metadata": {},
   "outputs": [],
   "source": [
    "cat_transform = {\n",
    "    0: \"Atypical\",\n",
    "    1: \"Negative\", \n",
    "    2: \"Typical\"\n",
    "}\n",
    "\n",
    "model = ResNet(model_size=model_size, pretrained=True)\n",
    "# model = models.densenet169(pretrained=True)\n",
    "# model.features[0] = nn.Sequential(OrderedDict([\n",
    "#             ('conv0', nn.Conv2d(1, 64, kernel_size=7, stride=2, padding=3, bias=False)),\n",
    "#             ('norm0', nn.BatchNorm2d(64)),\n",
    "#             ('relu0', nn.ReLU(inplace=True)),\n",
    "#             ('pool0', nn.MaxPool2d(kernel_size=3, stride=2, padding=1)),\n",
    "#         ]))\n",
    "# model.classifier = nn.Linear(1664, 3)\n",
    "model.load_state_dict(torch.load(f\"./Models/{model_name}_last_covid_model.pt\"))\n",
    "\n",
    "model.to(device)\n",
    "model.eval()\n",
    "out_df = pd.DataFrame(columns=[\"FileID\", \"Type\"])\n",
    "cnt = 0\n",
    "with torch.no_grad():\n",
    "    for images, filename in test_loader:\n",
    "        images = images.float().to(device)\n",
    "        outputs = model(images)\n",
    "        # _, preds = torch.max(outputs, 1)\n",
    "        # out_df.loc[cnt] = [filename[0], cat_transform[preds.item()]]\n",
    "        out_df.loc[cnt] = [filename[0], torch.sigmoid(outputs.cpu()).numpy()]\n",
    "        cnt += 1"
   ]
  },
  {
   "cell_type": "code",
   "execution_count": 46,
   "metadata": {},
   "outputs": [
    {
     "data": {
      "text/html": [
       "<div>\n",
       "<style scoped>\n",
       "    .dataframe tbody tr th:only-of-type {\n",
       "        vertical-align: middle;\n",
       "    }\n",
       "\n",
       "    .dataframe tbody tr th {\n",
       "        vertical-align: top;\n",
       "    }\n",
       "\n",
       "    .dataframe thead th {\n",
       "        text-align: right;\n",
       "    }\n",
       "</style>\n",
       "<table border=\"1\" class=\"dataframe\">\n",
       "  <thead>\n",
       "    <tr style=\"text-align: right;\">\n",
       "      <th></th>\n",
       "      <th>FileID</th>\n",
       "      <th>Type</th>\n",
       "    </tr>\n",
       "  </thead>\n",
       "  <tbody>\n",
       "    <tr>\n",
       "      <th>0</th>\n",
       "      <td>014cc6362544</td>\n",
       "      <td>[[0.6239632, 0.9429339, 0.04088789]]</td>\n",
       "    </tr>\n",
       "    <tr>\n",
       "      <th>1</th>\n",
       "      <td>014f6b975233</td>\n",
       "      <td>[[0.9950551, 0.007974871, 0.5676814]]</td>\n",
       "    </tr>\n",
       "    <tr>\n",
       "      <th>2</th>\n",
       "      <td>04d7e099eafa</td>\n",
       "      <td>[[0.65850955, 0.99963915, 0.00023509748]]</td>\n",
       "    </tr>\n",
       "    <tr>\n",
       "      <th>3</th>\n",
       "      <td>05a7f46635c7</td>\n",
       "      <td>[[0.19512738, 0.9978173, 0.011924788]]</td>\n",
       "    </tr>\n",
       "    <tr>\n",
       "      <th>4</th>\n",
       "      <td>05e002867b16</td>\n",
       "      <td>[[0.16254319, 0.47659382, 0.8787334]]</td>\n",
       "    </tr>\n",
       "    <tr>\n",
       "      <th>...</th>\n",
       "      <td>...</td>\n",
       "      <td>...</td>\n",
       "    </tr>\n",
       "    <tr>\n",
       "      <th>145</th>\n",
       "      <td>f6a9cee1149d</td>\n",
       "      <td>[[0.98779535, 5.2951422e-05, 0.99647397]]</td>\n",
       "    </tr>\n",
       "    <tr>\n",
       "      <th>146</th>\n",
       "      <td>f75463651b85</td>\n",
       "      <td>[[0.16292557, 0.986323, 0.07755546]]</td>\n",
       "    </tr>\n",
       "    <tr>\n",
       "      <th>147</th>\n",
       "      <td>f7f391fe9a3c</td>\n",
       "      <td>[[0.9459657, 0.80476886, 0.01229056]]</td>\n",
       "    </tr>\n",
       "    <tr>\n",
       "      <th>148</th>\n",
       "      <td>fb31eeb4f056</td>\n",
       "      <td>[[4.1511106e-05, 0.99862826, 0.9743319]]</td>\n",
       "    </tr>\n",
       "    <tr>\n",
       "      <th>149</th>\n",
       "      <td>fd0516801814</td>\n",
       "      <td>[[0.5707581, 0.09674115, 0.8541447]]</td>\n",
       "    </tr>\n",
       "  </tbody>\n",
       "</table>\n",
       "<p>150 rows × 2 columns</p>\n",
       "</div>"
      ],
      "text/plain": [
       "           FileID                                       Type\n",
       "0    014cc6362544       [[0.6239632, 0.9429339, 0.04088789]]\n",
       "1    014f6b975233      [[0.9950551, 0.007974871, 0.5676814]]\n",
       "2    04d7e099eafa  [[0.65850955, 0.99963915, 0.00023509748]]\n",
       "3    05a7f46635c7     [[0.19512738, 0.9978173, 0.011924788]]\n",
       "4    05e002867b16      [[0.16254319, 0.47659382, 0.8787334]]\n",
       "..            ...                                        ...\n",
       "145  f6a9cee1149d  [[0.98779535, 5.2951422e-05, 0.99647397]]\n",
       "146  f75463651b85       [[0.16292557, 0.986323, 0.07755546]]\n",
       "147  f7f391fe9a3c      [[0.9459657, 0.80476886, 0.01229056]]\n",
       "148  fb31eeb4f056   [[4.1511106e-05, 0.99862826, 0.9743319]]\n",
       "149  fd0516801814       [[0.5707581, 0.09674115, 0.8541447]]\n",
       "\n",
       "[150 rows x 2 columns]"
      ]
     },
     "execution_count": 46,
     "metadata": {},
     "output_type": "execute_result"
    }
   ],
   "source": [
    "out_df.sort_values(by=\"FileID\", inplace=True)\n",
    "out_df = out_df.reset_index(drop=True)\n",
    "out_df\n",
    "# out_df.to_csv(f\"./Results/{model_name}_covid_model.csv\", index=False)"
   ]
  },
  {
   "cell_type": "code",
   "execution_count": 41,
   "metadata": {},
   "outputs": [
    {
     "data": {
      "text/html": [
       "<div>\n",
       "<style scoped>\n",
       "    .dataframe tbody tr th:only-of-type {\n",
       "        vertical-align: middle;\n",
       "    }\n",
       "\n",
       "    .dataframe tbody tr th {\n",
       "        vertical-align: top;\n",
       "    }\n",
       "\n",
       "    .dataframe thead th {\n",
       "        text-align: right;\n",
       "    }\n",
       "</style>\n",
       "<table border=\"1\" class=\"dataframe\">\n",
       "  <thead>\n",
       "    <tr style=\"text-align: right;\">\n",
       "      <th></th>\n",
       "      <th>ID</th>\n",
       "      <th>Atypical</th>\n",
       "      <th>Negative</th>\n",
       "      <th>Typical</th>\n",
       "    </tr>\n",
       "  </thead>\n",
       "  <tbody>\n",
       "    <tr>\n",
       "      <th>0</th>\n",
       "      <td>014cc6362544</td>\n",
       "      <td>0.493702</td>\n",
       "      <td>0.500094</td>\n",
       "      <td>0.534156</td>\n",
       "    </tr>\n",
       "    <tr>\n",
       "      <th>1</th>\n",
       "      <td>014f6b975233</td>\n",
       "      <td>0.514952</td>\n",
       "      <td>0.604787</td>\n",
       "      <td>0.354928</td>\n",
       "    </tr>\n",
       "    <tr>\n",
       "      <th>2</th>\n",
       "      <td>04d7e099eafa</td>\n",
       "      <td>0.469840</td>\n",
       "      <td>0.677867</td>\n",
       "      <td>0.339246</td>\n",
       "    </tr>\n",
       "    <tr>\n",
       "      <th>3</th>\n",
       "      <td>05a7f46635c7</td>\n",
       "      <td>0.455261</td>\n",
       "      <td>0.592920</td>\n",
       "      <td>0.434772</td>\n",
       "    </tr>\n",
       "    <tr>\n",
       "      <th>4</th>\n",
       "      <td>05e002867b16</td>\n",
       "      <td>0.483056</td>\n",
       "      <td>0.511940</td>\n",
       "      <td>0.510766</td>\n",
       "    </tr>\n",
       "    <tr>\n",
       "      <th>...</th>\n",
       "      <td>...</td>\n",
       "      <td>...</td>\n",
       "      <td>...</td>\n",
       "      <td>...</td>\n",
       "    </tr>\n",
       "    <tr>\n",
       "      <th>145</th>\n",
       "      <td>f6a9cee1149d</td>\n",
       "      <td>0.522470</td>\n",
       "      <td>0.375124</td>\n",
       "      <td>0.638731</td>\n",
       "    </tr>\n",
       "    <tr>\n",
       "      <th>146</th>\n",
       "      <td>f75463651b85</td>\n",
       "      <td>0.572599</td>\n",
       "      <td>0.675057</td>\n",
       "      <td>0.276502</td>\n",
       "    </tr>\n",
       "    <tr>\n",
       "      <th>147</th>\n",
       "      <td>f7f391fe9a3c</td>\n",
       "      <td>0.552043</td>\n",
       "      <td>0.524315</td>\n",
       "      <td>0.484677</td>\n",
       "    </tr>\n",
       "    <tr>\n",
       "      <th>148</th>\n",
       "      <td>fb31eeb4f056</td>\n",
       "      <td>0.337982</td>\n",
       "      <td>0.822020</td>\n",
       "      <td>0.245641</td>\n",
       "    </tr>\n",
       "    <tr>\n",
       "      <th>149</th>\n",
       "      <td>fd0516801814</td>\n",
       "      <td>0.539733</td>\n",
       "      <td>0.429164</td>\n",
       "      <td>0.576850</td>\n",
       "    </tr>\n",
       "  </tbody>\n",
       "</table>\n",
       "<p>150 rows × 4 columns</p>\n",
       "</div>"
      ],
      "text/plain": [
       "               ID  Atypical  Negative   Typical\n",
       "0    014cc6362544  0.493702  0.500094  0.534156\n",
       "1    014f6b975233  0.514952  0.604787  0.354928\n",
       "2    04d7e099eafa  0.469840  0.677867  0.339246\n",
       "3    05a7f46635c7  0.455261  0.592920  0.434772\n",
       "4    05e002867b16  0.483056  0.511940  0.510766\n",
       "..            ...       ...       ...       ...\n",
       "145  f6a9cee1149d  0.522470  0.375124  0.638731\n",
       "146  f75463651b85  0.572599  0.675057  0.276502\n",
       "147  f7f391fe9a3c  0.552043  0.524315  0.484677\n",
       "148  fb31eeb4f056  0.337982  0.822020  0.245641\n",
       "149  fd0516801814  0.539733  0.429164  0.576850\n",
       "\n",
       "[150 rows x 4 columns]"
      ]
     },
     "execution_count": 41,
     "metadata": {},
     "output_type": "execute_result"
    }
   ],
   "source": [
    "# relu_prob = pd.read_csv(\"Results/relu_prob.csv\")\n",
    "# relu_prob"
   ]
  },
  {
   "cell_type": "code",
   "execution_count": 38,
   "metadata": {},
   "outputs": [],
   "source": [
    "from collections import OrderedDict\n",
    "model = models.densenet169(pretrained=True)\n",
    "model.features[0] = nn.Sequential(OrderedDict([\n",
    "            ('conv0', nn.Conv2d(1, 64, kernel_size=7, stride=2, padding=3, bias=False)),\n",
    "            ('norm0', nn.BatchNorm2d(64)),\n",
    "            ('relu0', nn.ReLU(inplace=True)),\n",
    "            ('pool0', nn.MaxPool2d(kernel_size=3, stride=2, padding=1)),\n",
    "        ]))\n",
    "model.classifier = nn.Linear(1664, 3)\n",
    "model.load_state_dict(torch.load(f\"./Models/densenet169_last_covid_model.pt\"))\n",
    "\n",
    "model.to(device)\n",
    "model.eval()\n",
    "dense_out_df = pd.DataFrame(columns=[\"FileID\", \"Type\"])\n",
    "cnt = 0\n",
    "with torch.no_grad():\n",
    "    for images, filename in test_loader:\n",
    "        images = images.float().to(device)\n",
    "        outputs = model(images)\n",
    "        # _, preds = torch.max(outputs, 1)\n",
    "        # out_df.loc[cnt] = [filename[0], cat_transform[preds.item()]]\n",
    "        dense_out_df.loc[cnt] = [filename[0], torch.sigmoid(outputs.cpu()).numpy()]\n",
    "        cnt += 1"
   ]
  },
  {
   "cell_type": "code",
   "execution_count": 47,
   "metadata": {},
   "outputs": [
    {
     "data": {
      "text/html": [
       "<div>\n",
       "<style scoped>\n",
       "    .dataframe tbody tr th:only-of-type {\n",
       "        vertical-align: middle;\n",
       "    }\n",
       "\n",
       "    .dataframe tbody tr th {\n",
       "        vertical-align: top;\n",
       "    }\n",
       "\n",
       "    .dataframe thead th {\n",
       "        text-align: right;\n",
       "    }\n",
       "</style>\n",
       "<table border=\"1\" class=\"dataframe\">\n",
       "  <thead>\n",
       "    <tr style=\"text-align: right;\">\n",
       "      <th></th>\n",
       "      <th>FileID</th>\n",
       "      <th>Type</th>\n",
       "    </tr>\n",
       "  </thead>\n",
       "  <tbody>\n",
       "    <tr>\n",
       "      <th>0</th>\n",
       "      <td>014cc6362544</td>\n",
       "      <td>[[0.6239632, 0.9429339, 0.04088789]]</td>\n",
       "    </tr>\n",
       "    <tr>\n",
       "      <th>1</th>\n",
       "      <td>014f6b975233</td>\n",
       "      <td>[[0.9950551, 0.007974871, 0.5676814]]</td>\n",
       "    </tr>\n",
       "    <tr>\n",
       "      <th>2</th>\n",
       "      <td>04d7e099eafa</td>\n",
       "      <td>[[0.65850955, 0.99963915, 0.00023509748]]</td>\n",
       "    </tr>\n",
       "    <tr>\n",
       "      <th>3</th>\n",
       "      <td>05a7f46635c7</td>\n",
       "      <td>[[0.19512738, 0.9978173, 0.011924788]]</td>\n",
       "    </tr>\n",
       "    <tr>\n",
       "      <th>4</th>\n",
       "      <td>05e002867b16</td>\n",
       "      <td>[[0.16254319, 0.47659382, 0.8787334]]</td>\n",
       "    </tr>\n",
       "    <tr>\n",
       "      <th>...</th>\n",
       "      <td>...</td>\n",
       "      <td>...</td>\n",
       "    </tr>\n",
       "    <tr>\n",
       "      <th>145</th>\n",
       "      <td>f6a9cee1149d</td>\n",
       "      <td>[[0.98779535, 5.2951422e-05, 0.99647397]]</td>\n",
       "    </tr>\n",
       "    <tr>\n",
       "      <th>146</th>\n",
       "      <td>f75463651b85</td>\n",
       "      <td>[[0.16292557, 0.986323, 0.07755546]]</td>\n",
       "    </tr>\n",
       "    <tr>\n",
       "      <th>147</th>\n",
       "      <td>f7f391fe9a3c</td>\n",
       "      <td>[[0.9459657, 0.80476886, 0.01229056]]</td>\n",
       "    </tr>\n",
       "    <tr>\n",
       "      <th>148</th>\n",
       "      <td>fb31eeb4f056</td>\n",
       "      <td>[[4.1511106e-05, 0.99862826, 0.9743319]]</td>\n",
       "    </tr>\n",
       "    <tr>\n",
       "      <th>149</th>\n",
       "      <td>fd0516801814</td>\n",
       "      <td>[[0.5707581, 0.09674115, 0.8541447]]</td>\n",
       "    </tr>\n",
       "  </tbody>\n",
       "</table>\n",
       "<p>150 rows × 2 columns</p>\n",
       "</div>"
      ],
      "text/plain": [
       "           FileID                                       Type\n",
       "0    014cc6362544       [[0.6239632, 0.9429339, 0.04088789]]\n",
       "1    014f6b975233      [[0.9950551, 0.007974871, 0.5676814]]\n",
       "2    04d7e099eafa  [[0.65850955, 0.99963915, 0.00023509748]]\n",
       "3    05a7f46635c7     [[0.19512738, 0.9978173, 0.011924788]]\n",
       "4    05e002867b16      [[0.16254319, 0.47659382, 0.8787334]]\n",
       "..            ...                                        ...\n",
       "145  f6a9cee1149d  [[0.98779535, 5.2951422e-05, 0.99647397]]\n",
       "146  f75463651b85       [[0.16292557, 0.986323, 0.07755546]]\n",
       "147  f7f391fe9a3c      [[0.9459657, 0.80476886, 0.01229056]]\n",
       "148  fb31eeb4f056   [[4.1511106e-05, 0.99862826, 0.9743319]]\n",
       "149  fd0516801814       [[0.5707581, 0.09674115, 0.8541447]]\n",
       "\n",
       "[150 rows x 2 columns]"
      ]
     },
     "execution_count": 47,
     "metadata": {},
     "output_type": "execute_result"
    }
   ],
   "source": [
    "dense_out_df.sort_values(by=\"FileID\", inplace=True)\n",
    "dense_out_df = out_df.reset_index(drop=True)\n",
    "dense_out_df"
   ]
  },
  {
   "cell_type": "code",
   "execution_count": 48,
   "metadata": {},
   "outputs": [
    {
     "data": {
      "text/html": [
       "<div>\n",
       "<style scoped>\n",
       "    .dataframe tbody tr th:only-of-type {\n",
       "        vertical-align: middle;\n",
       "    }\n",
       "\n",
       "    .dataframe tbody tr th {\n",
       "        vertical-align: top;\n",
       "    }\n",
       "\n",
       "    .dataframe thead th {\n",
       "        text-align: right;\n",
       "    }\n",
       "</style>\n",
       "<table border=\"1\" class=\"dataframe\">\n",
       "  <thead>\n",
       "    <tr style=\"text-align: right;\">\n",
       "      <th></th>\n",
       "      <th>FileID</th>\n",
       "      <th>Type</th>\n",
       "    </tr>\n",
       "  </thead>\n",
       "  <tbody>\n",
       "    <tr>\n",
       "      <th>0</th>\n",
       "      <td>014cc6362544</td>\n",
       "      <td>Negative</td>\n",
       "    </tr>\n",
       "    <tr>\n",
       "      <th>1</th>\n",
       "      <td>014f6b975233</td>\n",
       "      <td>Atypical</td>\n",
       "    </tr>\n",
       "    <tr>\n",
       "      <th>2</th>\n",
       "      <td>04d7e099eafa</td>\n",
       "      <td>Negative</td>\n",
       "    </tr>\n",
       "    <tr>\n",
       "      <th>3</th>\n",
       "      <td>05a7f46635c7</td>\n",
       "      <td>Negative</td>\n",
       "    </tr>\n",
       "    <tr>\n",
       "      <th>4</th>\n",
       "      <td>05e002867b16</td>\n",
       "      <td>Typical</td>\n",
       "    </tr>\n",
       "    <tr>\n",
       "      <th>...</th>\n",
       "      <td>...</td>\n",
       "      <td>...</td>\n",
       "    </tr>\n",
       "    <tr>\n",
       "      <th>145</th>\n",
       "      <td>f6a9cee1149d</td>\n",
       "      <td>Typical</td>\n",
       "    </tr>\n",
       "    <tr>\n",
       "      <th>146</th>\n",
       "      <td>f75463651b85</td>\n",
       "      <td>Negative</td>\n",
       "    </tr>\n",
       "    <tr>\n",
       "      <th>147</th>\n",
       "      <td>f7f391fe9a3c</td>\n",
       "      <td>Atypical</td>\n",
       "    </tr>\n",
       "    <tr>\n",
       "      <th>148</th>\n",
       "      <td>fb31eeb4f056</td>\n",
       "      <td>Negative</td>\n",
       "    </tr>\n",
       "    <tr>\n",
       "      <th>149</th>\n",
       "      <td>fd0516801814</td>\n",
       "      <td>Typical</td>\n",
       "    </tr>\n",
       "  </tbody>\n",
       "</table>\n",
       "<p>150 rows × 2 columns</p>\n",
       "</div>"
      ],
      "text/plain": [
       "           FileID      Type\n",
       "0    014cc6362544  Negative\n",
       "1    014f6b975233  Atypical\n",
       "2    04d7e099eafa  Negative\n",
       "3    05a7f46635c7  Negative\n",
       "4    05e002867b16   Typical\n",
       "..            ...       ...\n",
       "145  f6a9cee1149d   Typical\n",
       "146  f75463651b85  Negative\n",
       "147  f7f391fe9a3c  Atypical\n",
       "148  fb31eeb4f056  Negative\n",
       "149  fd0516801814   Typical\n",
       "\n",
       "[150 rows x 2 columns]"
      ]
     },
     "execution_count": 48,
     "metadata": {},
     "output_type": "execute_result"
    }
   ],
   "source": [
    "res_dense = pd.DataFrame(columns=[\"FileID\", \"Atypical\", \"Negative\", \"Typical\"])\n",
    "for i in range(len(out_df)):\n",
    "    res_dense.loc[i] = [out_df.loc[i, \"FileID\"], out_df.loc[i][\"Type\"][0][0] + dense_out_df.loc[i][\"Type\"][0][0], out_df.loc[i][\"Type\"][0][1] + dense_out_df.loc[i][\"Type\"][0][1], out_df.loc[i][\"Type\"][0][2] + dense_out_df.loc[i][\"Type\"][0][2]]\n",
    "res_dense[\"Type\"] = res_dense[[\"Atypical\", \"Negative\", \"Typical\"]].idxmax(axis=1)\n",
    "res_dense = res_dense[[\"FileID\", \"Type\"]]\n",
    "res_dense.to_csv(f\"./Results/res_dense_voting.csv\", index=False)\n",
    "res_dense"
   ]
  },
  {
   "cell_type": "code",
   "execution_count": 43,
   "metadata": {},
   "outputs": [
    {
     "data": {
      "text/html": [
       "<div>\n",
       "<style scoped>\n",
       "    .dataframe tbody tr th:only-of-type {\n",
       "        vertical-align: middle;\n",
       "    }\n",
       "\n",
       "    .dataframe tbody tr th {\n",
       "        vertical-align: top;\n",
       "    }\n",
       "\n",
       "    .dataframe thead th {\n",
       "        text-align: right;\n",
       "    }\n",
       "</style>\n",
       "<table border=\"1\" class=\"dataframe\">\n",
       "  <thead>\n",
       "    <tr style=\"text-align: right;\">\n",
       "      <th></th>\n",
       "      <th>FileID</th>\n",
       "      <th>Type</th>\n",
       "    </tr>\n",
       "  </thead>\n",
       "  <tbody>\n",
       "    <tr>\n",
       "      <th>0</th>\n",
       "      <td>014cc6362544</td>\n",
       "      <td>Negative</td>\n",
       "    </tr>\n",
       "    <tr>\n",
       "      <th>1</th>\n",
       "      <td>014f6b975233</td>\n",
       "      <td>Atypical</td>\n",
       "    </tr>\n",
       "    <tr>\n",
       "      <th>2</th>\n",
       "      <td>04d7e099eafa</td>\n",
       "      <td>Negative</td>\n",
       "    </tr>\n",
       "    <tr>\n",
       "      <th>3</th>\n",
       "      <td>05a7f46635c7</td>\n",
       "      <td>Negative</td>\n",
       "    </tr>\n",
       "    <tr>\n",
       "      <th>4</th>\n",
       "      <td>05e002867b16</td>\n",
       "      <td>Typical</td>\n",
       "    </tr>\n",
       "    <tr>\n",
       "      <th>...</th>\n",
       "      <td>...</td>\n",
       "      <td>...</td>\n",
       "    </tr>\n",
       "    <tr>\n",
       "      <th>145</th>\n",
       "      <td>f6a9cee1149d</td>\n",
       "      <td>Typical</td>\n",
       "    </tr>\n",
       "    <tr>\n",
       "      <th>146</th>\n",
       "      <td>f75463651b85</td>\n",
       "      <td>Negative</td>\n",
       "    </tr>\n",
       "    <tr>\n",
       "      <th>147</th>\n",
       "      <td>f7f391fe9a3c</td>\n",
       "      <td>Atypical</td>\n",
       "    </tr>\n",
       "    <tr>\n",
       "      <th>148</th>\n",
       "      <td>fb31eeb4f056</td>\n",
       "      <td>Negative</td>\n",
       "    </tr>\n",
       "    <tr>\n",
       "      <th>149</th>\n",
       "      <td>fd0516801814</td>\n",
       "      <td>Typical</td>\n",
       "    </tr>\n",
       "  </tbody>\n",
       "</table>\n",
       "<p>150 rows × 2 columns</p>\n",
       "</div>"
      ],
      "text/plain": [
       "           FileID      Type\n",
       "0    014cc6362544  Negative\n",
       "1    014f6b975233  Atypical\n",
       "2    04d7e099eafa  Negative\n",
       "3    05a7f46635c7  Negative\n",
       "4    05e002867b16   Typical\n",
       "..            ...       ...\n",
       "145  f6a9cee1149d   Typical\n",
       "146  f75463651b85  Negative\n",
       "147  f7f391fe9a3c  Atypical\n",
       "148  fb31eeb4f056  Negative\n",
       "149  fd0516801814   Typical\n",
       "\n",
       "[150 rows x 2 columns]"
      ]
     },
     "execution_count": 43,
     "metadata": {},
     "output_type": "execute_result"
    }
   ],
   "source": [
    "# for idx, row in relu_prob.iterrows():\n",
    "#     relu_prob.at[idx, \"Atypical\"] = row[\"Atypical\"] + out_df.loc[idx][\"Type\"][0][0] + dense_out_df.loc[idx][\"Type\"][0][0]\n",
    "#     relu_prob.at[idx, \"Negative\"] = row[\"Negative\"] + out_df.loc[idx][\"Type\"][0][1] + dense_out_df.loc[idx][\"Type\"][0][1]\n",
    "#     relu_prob.at[idx, \"Typical\"] = row[\"Typical\"] + out_df.loc[idx][\"Type\"][0][2] + dense_out_df.loc[idx][\"Type\"][0][2]\n",
    "# relu_prob[\"Type\"] = relu_prob[[\"Atypical\", \"Negative\", \"Typical\"]].idxmax(axis=1)\n",
    "# relu_prob.rename(columns={\"ID\": \"FileID\"}, inplace=True)\n",
    "# relu_prob = relu_prob[[\"FileID\", \"Type\"]]\n",
    "# relu_prob.to_csv(f\"./Results/soft_voting.csv\", index=False)\n",
    "# relu_prob"
   ]
  }
 ],
 "metadata": {
  "interpreter": {
   "hash": "50c26ada694373211845c4496603cc4382a46f266e3838ea96cb33854c7afda1"
  },
  "kernelspec": {
   "display_name": "Python 3.8.10 64-bit ('case2': venv)",
   "language": "python",
   "name": "python3"
  },
  "language_info": {
   "codemirror_mode": {
    "name": "ipython",
    "version": 3
   },
   "file_extension": ".py",
   "mimetype": "text/x-python",
   "name": "python",
   "nbconvert_exporter": "python",
   "pygments_lexer": "ipython3",
   "version": "3.8.10"
  },
  "orig_nbformat": 4
 },
 "nbformat": 4,
 "nbformat_minor": 2
}
